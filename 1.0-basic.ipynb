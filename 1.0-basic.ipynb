{
 "cells": [
  {
   "cell_type": "markdown",
   "id": "fdafc1b7",
   "metadata": {},
   "source": [
    "Syntax and Semantics in Python\n",
    "Video Outline:\n",
    "\n",
    "Single line Comments and multiline comments\n",
    "Definition of Syntax and Semantics\n",
    "Basic Syntax Rules in Python\n",
    "Understanding Semantics in Python\n",
    "Common Syntax Errors and How to Avoid Them\n",
    "Practical Code Examples\n",
    "\n",
    "Syntax refers to the set of rules that defines the combinations of symbols that are considered to be correctly structured programs in a language. In simpler terms, syntax is about the correct arrangement of words and symbols in a code.\n",
    "\n",
    "Semantics refers to the meaning or the interpretation of the symbols, characters, and commands in a language. It is about what the code is supposed to do when it runs.\n",
    "\n"
   ]
  },
  {
   "cell_type": "code",
   "execution_count": 4,
   "id": "27d7538a",
   "metadata": {},
   "outputs": [
    {
     "name": "stdout",
     "output_type": "stream",
     "text": [
      "vijay\n",
      "kumar\n"
     ]
    }
   ],
   "source": [
    "## Basic Syntax Rules In Python\n",
    "## Case sensitivity- Python is case sensitive\n",
    "\n",
    "name=\"vijay\"\n",
    "Name=\"kumar\"\n",
    "\n",
    "print(name)\n",
    "print(Name)"
   ]
  },
  {
   "cell_type": "code",
   "execution_count": null,
   "id": "b385770a",
   "metadata": {},
   "outputs": [],
   "source": []
  }
 ],
 "metadata": {
  "kernelspec": {
   "display_name": "Python 3",
   "language": "python",
   "name": "python3"
  },
  "language_info": {
   "codemirror_mode": {
    "name": "ipython",
    "version": 3
   },
   "file_extension": ".py",
   "mimetype": "text/x-python",
   "name": "python",
   "nbconvert_exporter": "python",
   "pygments_lexer": "ipython3",
   "version": "3.12.11"
  }
 },
 "nbformat": 4,
 "nbformat_minor": 5
}
